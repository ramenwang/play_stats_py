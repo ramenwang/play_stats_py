{
 "cells": [
  {
   "cell_type": "markdown",
   "metadata": {},
   "source": [
    "# Perceptron Learning\n",
    "It is an simple classification algorithm invented by Frank Rosenblatt in 1957\n",
    "\n",
    "#### Learning process:\n",
    "1) randomly initialize a weight vector\n",
    "<br>\n",
    "2) calculate dot product of x and weights and return sign as classification labels\n",
    "<br>\n",
    "3) selecting one of the mislabeled vector at random\n",
    "<br>\n",
    "4) update weights by adding the product of selected vector and corresponding label\n",
    "\n",
    "#### References:\n",
    "\n",
    "Rosenblatt, Frank (1958), The Perceptron: A Probabilistic Model for Information Storage and Organization in the Brain, Cornell Aeronautical Laboratory, Psychological Review, v65, No. 6, pp. 386–408. doi:10.1037/h0042519.\n",
    "\n",
    "Kowalczyk, Alexandre (2017), Support Vector Machine, Syncfusion, Inc."
   ]
  },
  {
   "cell_type": "code",
   "execution_count": 20,
   "metadata": {},
   "outputs": [],
   "source": [
    "import numpy as np\n",
    "\n",
    "def weight_ini(p):\n",
    "    return np.random.random_sample(p)\n",
    "\n",
    "def hypothesis(x, w):\n",
    "    return np.sign(np.dot(x, w))\n",
    "\n",
    "def predict(hypothesis, X, y, w):\n",
    "    prediction = np.apply_along_axis(hypothesis, 1, X, w)\n",
    "    misclassified = X[y != predictions,]\n",
    "    return prediction, misclassified\n",
    "\n",
    "def pick_one(misclassified, X, y):\n",
    "    np.random.shuffle(misclassified)\n",
    "    x = misclassified[0,]\n",
    "    y_index = np.where(np.all(X == x, axis = 1))\n",
    "    return x, y[y_index]\n",
    "\n",
    "def train(X, y):\n",
    "    _, p = X.shape\n",
    "    w = weight_ini(p)\n",
    "    _, misclassified = predict(hypothesis, X, y, w)\n",
    "    w_updates = []\n",
    "    while misclassified.any():\n",
    "        mis_x, expected_y = pick_one(misclassified, X, y)\n",
    "        w+ = x*expected_y\n",
    "        w_updates.append(x*expected_y)\n",
    "        misclassified = predict(hypothesis, X, y, w)\n",
    "        \n",
    "    return w, w_updates"
   ]
  },
  {
   "cell_type": "code",
   "execution_count": null,
   "metadata": {},
   "outputs": [],
   "source": []
  }
 ],
 "metadata": {
  "kernelspec": {
   "display_name": "Python 3",
   "language": "python",
   "name": "python3"
  },
  "language_info": {
   "codemirror_mode": {
    "name": "ipython",
    "version": 3
   },
   "file_extension": ".py",
   "mimetype": "text/x-python",
   "name": "python",
   "nbconvert_exporter": "python",
   "pygments_lexer": "ipython3",
   "version": "3.6.5"
  }
 },
 "nbformat": 4,
 "nbformat_minor": 2
}
