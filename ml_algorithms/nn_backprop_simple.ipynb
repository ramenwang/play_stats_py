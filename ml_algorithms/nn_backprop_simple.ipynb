{
 "cells": [
  {
   "cell_type": "markdown",
   "metadata": {},
   "source": [
    "# Building simple ANN with backpropagation tested with MNIST data\n",
    "The MNIST database of handwritten digits, available from this page, has a training set of 60,000 examples, and a test set of 10,000 examples. It is a subset of a larger set available from NIST. The digits have been size-normalized and centered in a fixed-size image.\n",
    "\n",
    "It is a good database for people who want to try learning techniques and pattern recognition methods on real-world data while spending minimal efforts on preprocessing and formatting.\n",
    "\n",
    "More detail, please check: http://yann.lecun.com/exdb/mnist/\n",
    "\n",
    "It has also been integrated into sklean package, so it can be directly imported."
   ]
  },
  {
   "cell_type": "code",
   "execution_count": 2,
   "metadata": {},
   "outputs": [
    {
     "name": "stdout",
     "output_type": "stream",
     "text": [
      "(1797, 8, 8)\n",
      "(1797, 64)\n"
     ]
    },
    {
     "data": {
      "text/plain": [
       "<Figure size 640x480 with 0 Axes>"
      ]
     },
     "metadata": {},
     "output_type": "display_data"
    },
    {
     "data": {
      "text/plain": [
       "<Figure size 480x480 with 1 Axes>"
      ]
     },
     "metadata": {},
     "output_type": "display_data"
    }
   ],
   "source": [
    "# loading MNIST data\n",
    "from sklearn.datasets import load_digits\n",
    "digits = load_digits()\n",
    "# digits image data which has been converted into three dimensional array\n",
    "print(digits.images.shape)\n",
    "# data has been concantenated into a vector by order\n",
    "print(digits.data.shape)\n",
    "\n",
    "import numpy as np\n",
    "import matplotlib.pyplot as plt\n",
    "plt.gray()\n",
    "ran_img = np.random.choice(range(digits.images.shape[0]))\n",
    "plt.matshow(digits.images[ran_img])\n",
    "plt.show()"
   ]
  },
  {
   "cell_type": "markdown",
   "metadata": {},
   "source": [
    "### Preprocessing data\n",
    "* Standardize x\n",
    "* Split training and testing set\n",
    "* Create dummy output for classification"
   ]
  },
  {
   "cell_type": "code",
   "execution_count": 3,
   "metadata": {},
   "outputs": [
    {
     "name": "stdout",
     "output_type": "stream",
     "text": [
      "[ 0.         -0.33501649 -0.04308102  0.27407152 -0.66447751 -0.84412939\n",
      " -0.40972392 -0.12502292 -0.05907756 -0.62400926  0.4829745   0.75962245\n",
      " -0.05842586  1.12772113  0.87958306 -0.13043338 -0.04462507  0.11144272\n",
      "  0.89588044 -0.86066632 -1.14964846  0.51547187  1.90596347 -0.11422184\n",
      " -0.03337973  0.48648928  0.46988512 -1.49990136 -1.61406277  0.07639777\n",
      "  1.54181413 -0.04723238  0.          0.76465553  0.05263019 -1.44763006\n",
      " -1.73666443  0.04361588  1.43955804  0.         -0.06134367  0.8105536\n",
      "  0.63011714 -1.12245711 -1.06623158  0.66096475  0.81845076 -0.08874162\n",
      " -0.03543326  0.74211893  1.15065212 -0.86867056  0.11012973  0.53761116\n",
      " -0.75743581 -0.20978513 -0.02359646 -0.29908135  0.08671869  0.20829258\n",
      " -0.36677122 -1.14664746 -0.5056698  -0.19600752]\n",
      "[0. 0. 0. 0. 1. 0. 0. 0. 0. 0.] [0. 0. 0. 0. 1. 0. 0. 0. 0. 0.]\n"
     ]
    }
   ],
   "source": [
    "# standardize data into zscore\n",
    "from sklearn.preprocessing import StandardScaler\n",
    "X_scale = StandardScaler()\n",
    "X = X_scale.fit_transform(digits.data)\n",
    "print(X[0,:])\n",
    "\n",
    "# create training and testing set\n",
    "from sklearn.model_selection import train_test_split\n",
    "y = digits.target\n",
    "X_train, X_test, y_train, y_test = train_test_split(X, y, test_size = 0.4)\n",
    "\n",
    "# convert y value into vector of zeros and one, dummy variable\n",
    "import numpy as np\n",
    "def vectorize_y(y):\n",
    "    y_vec = np.zeros((len(y), 10))\n",
    "    for i in range(len(y)):\n",
    "        y_vec[i,y[i]] = 1\n",
    "    return y_vec\n",
    "y_train = vectorize_y(y_train)\n",
    "y_test  = vectorize_y(y_test)\n",
    "print(y_train[0],y_test[0])"
   ]
  },
  {
   "cell_type": "markdown",
   "metadata": {},
   "source": [
    "### Define ANN functions"
   ]
  },
  {
   "cell_type": "code",
   "execution_count": 4,
   "metadata": {},
   "outputs": [],
   "source": [
    "# define NN structure\n",
    "nn_structure = [64,30,10]\n",
    "\n",
    "# define activation function\n",
    "def f(x):\n",
    "    return 1/(1 + np.exp(-x))\n",
    "\n",
    "# define derivative of activation function\n",
    "def f_deriv(x):\n",
    "    return f(x) * (1 - f(x))\n",
    "\n",
    "# define function for initializing weights and bias\n",
    "def weight_initialization(nn_structure):\n",
    "    W = {}\n",
    "    b = {}\n",
    "    for sl in range(1, len(nn_structure)):\n",
    "        W[sl] = np.random.random_sample((nn_structure[sl], nn_structure[sl - 1]))\n",
    "        b[sl] = np.random.random_sample((nn_structure[sl],))\n",
    "    return W, b\n",
    "\n",
    "# define function for creating weight and bias updates\n",
    "def delta_initialization(nn_structure):\n",
    "    delta_W = {}\n",
    "    delta_b = {}\n",
    "    for sl in range(1, len(nn_structure)):\n",
    "        delta_W[sl] = np.zeros((nn_structure[sl], nn_structure[sl - 1]))\n",
    "        delta_b[sl] = np.zeros((nn_structure[sl],))\n",
    "    return delta_W, delta_b\n",
    "\n",
    "# define function for feedforward\n",
    "def feed_forward(x, W, b):\n",
    "    h = {1:x}\n",
    "    z = {}\n",
    "    for sl in range(1, len(W)+1):\n",
    "        if sl == 1:\n",
    "            node_in = x\n",
    "        else:\n",
    "            node_in = h[sl]\n",
    "        z[sl+1] = W[sl].dot(node_in) + b[sl]\n",
    "        h[sl+1] = f(z[sl+1])\n",
    "    return h, z\n",
    "\n",
    "# calculate gradient at output layer\n",
    "def calculate_gradient_last_layer(y, h_out, z_out):\n",
    "    return -(y - h_out) * f_deriv(z_out)\n",
    "\n",
    "# calculate gradient at hidden layers\n",
    "def calculate_gradient_hidden_layer(delta_plus_1, w_sl, z_sl):\n",
    "    return np.dot(np.transpose(w_sl), delta_plus_1) * f_deriv(z_sl)\n"
   ]
  },
  {
   "cell_type": "markdown",
   "metadata": {},
   "source": [
    "### Define ANN training"
   ]
  },
  {
   "cell_type": "code",
   "execution_count": 8,
   "metadata": {},
   "outputs": [],
   "source": [
    "def train_nn(nn_structure, X, y, iter_num = 3000, alpha = 0.25):\n",
    "    W, b = weight_initialization(nn_structure)\n",
    "    cnt = 0\n",
    "    m = len(y)\n",
    "    avg_cost_func = []\n",
    "    print(\"Gradient decent stated for {} iteration\".format(iter_num))\n",
    "    \n",
    "    while cnt <= iter_num:\n",
    "        if cnt % 1000 == 0:\n",
    "            print(\"Finshed {} out of {}\".format(cnt, iter_num))\n",
    "        delta_W, delta_b = delta_initialization(nn_structure)\n",
    "        avg_cost = 0\n",
    "        \n",
    "        for i in range(len(y)):\n",
    "            delta = {}\n",
    "            h, z = feed_forward(X[i, :], W, b)\n",
    "            \n",
    "            for sl in range(len(nn_structure), 0, -1):\n",
    "                if sl == len(nn_structure):\n",
    "                    delta[sl] = calculate_gradient_last_layer(y[i,:], h[sl], z[sl])\n",
    "                    avg_cost += np.linalg.norm(y[i,:]-h[sl])\n",
    "                else:\n",
    "                    if sl > 1:\n",
    "                        delta[sl] = calculate_gradient_hidden_layer(delta[sl+1], W[sl], z[sl])\n",
    "                    delta_W[sl] += np.dot(delta[sl+1][:,np.newaxis], np.transpose(h[sl][:,np.newaxis]))\n",
    "                    delta_b[sl] += delta[sl+1]\n",
    "                    \n",
    "        for sl in range(len(nn_structure)-1,0,-1):\n",
    "            W[sl] += -alpha * (1.0/m * delta_W[sl])\n",
    "            b[sl] += -alpha * (1.0/m * delta_b[sl])\n",
    "        avg_cost = avg_cost / m\n",
    "        avg_cost_func.append(avg_cost)\n",
    "        cnt += 1\n",
    "    return W, b, avg_cost_func\n",
    "\n",
    "def predict_nn(W, b, X, nn_structure):\n",
    "    m = X.shape[0]\n",
    "    y_hat = np.zeros((m,))\n",
    "    n_layers = len(nn_structure)\n",
    "    for i in range(m):\n",
    "        h, z = feed_forward(X[i,:], W, b)\n",
    "        y_hat[i] = np.argmax(h[n_layers]) \n",
    "    return y_hat"
   ]
  },
  {
   "cell_type": "code",
   "execution_count": 6,
   "metadata": {},
   "outputs": [
    {
     "name": "stdout",
     "output_type": "stream",
     "text": [
      "Gradient decent stated for 3000 iteration\n",
      "Finshed 0 out of 3000\n",
      "Finshed 1000 out of 3000\n",
      "Finshed 2000 out of 3000\n",
      "Finshed 3000 out of 3000\n"
     ]
    }
   ],
   "source": [
    "W, b, avg_cost_func = train_nn(nn_structure, X=X_train, y=y_train)"
   ]
  },
  {
   "cell_type": "code",
   "execution_count": 9,
   "metadata": {},
   "outputs": [
    {
     "data": {
      "image/png": "[encoded data removed]",
      "text/plain": [
       "<Figure size 432x288 with 1 Axes>"
      ]
     },
     "metadata": {},
     "output_type": "display_data"
    }
   ],
   "source": [
    "plt.plot(avg_cost_func)\n",
    "plt.ylabel('Average cost')\n",
    "plt.xlabel('Iteration')\n",
    "plt.show()"
   ]
  },
  {
   "cell_type": "code",
   "execution_count": 70,
   "metadata": {},
   "outputs": [
    {
     "data": {
      "image/png": "[encoded data removed]",
      "text/plain": [
       "<Figure size 720x1440 with 9 Axes>"
      ]
     },
     "metadata": {},
     "output_type": "display_data"
    }
   ],
   "source": [
    "y_hat = predict_nn(W, b, X_test, nn_structure)\n",
    "_, axs = plt.subplots(3, 3)\n",
    "# plt.rcParams[\"figure.figsize\"] = (10,20)\n",
    "plt.subplots_adjust(wspace=0.1, hspace=None)\n",
    "for i in range(3):\n",
    "    for j in range(3):\n",
    "        imatrix = np.reshape(X_test[i*3 + j], newshape=[8,8])\n",
    "        # axs[i,j].gray()\n",
    "        axs[i,j].matshow(imatrix)\n",
    "        axs[i,j].axis('off')\n",
    "        axs[i,j].set_title('Prediction is {}'.format(y_hat[i*3 + j]))\n"
   ]
  },
  {
   "cell_type": "code",
   "execution_count": null,
   "metadata": {},
   "outputs": [],
   "source": []
  }
 ],
 "metadata": {
  "kernelspec": {
   "display_name": "Python 3",
   "language": "python",
   "name": "python3"
  },
  "language_info": {
   "codemirror_mode": {
    "name": "ipython",
    "version": 3
   },
   "file_extension": ".py",
   "mimetype": "text/x-python",
   "name": "python",
   "nbconvert_exporter": "python",
   "pygments_lexer": "ipython3",
   "version": "3.6.5"
  }
 },
 "nbformat": 4,
 "nbformat_minor": 2
}
