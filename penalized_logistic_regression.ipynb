{
 "cells": [
  {
   "cell_type": "markdown",
   "metadata": {},
   "source": [
    "## Penalized logistic regression\n",
    "The cost function of logistic regression is defined as:\n",
    "\\begin{equation*}\n",
    "J(\\theta)=-\\frac{1}{m}\\sum_{i=1}^m[y^{(i)}log(h_{\\theta}(x^{(i)})) + (1 - y^{(i)})log(1 - h_{\\theta}(x^{(i)}))]\n",
    "\\end{equation*}\n",
    "to avoid stucking in local optimum.\n",
    "\n",
    "On each of the paramter, the gradient decents for jth weight and bias are defined as:\n",
    "\n",
    "\\begin{equation*}\n",
    "\\theta_{j} :=\\theta_{j}-\\alpha\\frac{\\partial{}}{\\partial{\\theta_{j}}}J(\\theta)\n",
    "\\end{equation*}\n",
    "\\begin{equation*}\n",
    "b :=b-\\alpha\\frac{\\partial{}}{\\partial{b}}J(\\theta)\n",
    "\\end{equation*}\n",
    "\n",
    "Solving partial derivatives:\n",
    "\n",
    "\\begin{equation*}\n",
    "\\frac{\\partial{}}{\\partial{\\theta_{j}}}J(\\theta) = \\frac{\\partial{J(\\theta)}}{\\partial{h_{\\theta}(x)}}\\frac{\\partial{h_{\\theta}(x)}}{\\partial{\\theta_{j}}}\n",
    "\\end{equation*}\n",
    "\n",
    "\\begin{equation*}\n",
    "\\frac{\\partial{}}{\\partial{b}}J(\\theta) = \\frac{\\partial{J(\\theta)}}{\\partial{h_{\\theta}(x)}}\\frac{\\partial{h_{\\theta}(x)}}{\\partial{b}}\n",
    "\\end{equation*}\n",
    "\n",
    "The first partial derivative is as:\n",
    "\n",
    "\\begin{equation*}\n",
    "\\frac{\\partial{J(\\theta)}}{\\partial{h_{\\theta}(x)}} = -\\frac{1}{m}\\sum_{i=1}^m[\\frac{y^{(i)}}{h_{\\theta}(x^{(i)})} - \\frac{1-y^{(i)}}{1-h_{\\theta}(x^{(i)})}]\n",
    "\\end{equation*}\n",
    "\n",
    "The second partial derivative for jth weight and bias are:\n",
    "\n",
    "\\begin{equation*}\n",
    "\\frac{\\partial{h_{\\theta}(x)}}{\\partial{\\theta_{j}}} = -\\frac{1}{m}\\sum_{i=1}^m[x_j^{(i)}h_{\\theta}(x^{(i)})(1-h_{\\theta}(x^{(i)}))]\n",
    "\\end{equation*}\n",
    "\n",
    "\\begin{equation*}\n",
    "\\frac{\\partial{h_{\\theta}(x)}}{\\partial{b}} = -\\frac{1}{m}\\sum_{i=1}^m[ h_{\\theta}(x^{(i)})(1-h_{\\theta}(x^{(i)}))]\n",
    "\\end{equation*}\n",
    "\n",
    "Combine every terms:\n",
    "\\begin{equation*}\n",
    "\\theta_{j} :=\\theta_{j}-\\alpha \\frac{1}{m}\\sum_{i=1}^m x_j^{(i)}[h_{\\theta}(x^{(i)}) - y^{(i)}]\n",
    "\\end{equation*}\n",
    "\n",
    "\\begin{equation*}\n",
    "b :=b-\\alpha \\frac{1}{m}\\sum_{i=1}^m [h_{\\theta}(x^{(i)}) - y^{(i)}]\n",
    "\\end{equation*}"
   ]
  },
  {
   "cell_type": "code",
   "execution_count": 162,
   "metadata": {},
   "outputs": [],
   "source": [
    "import numpy as np\n",
    "\n",
    "# define function for weights initialization\n",
    "def w_initialization(n):\n",
    "    w = np.random.random_sample((n,))\n",
    "    b = np.random.random_sample((1,))\n",
    "    return w, b\n",
    "    \n",
    "# define function for delta weights initialization\n",
    "def delta_w_initialization(n):\n",
    "    delta_w = np.zeros((n,))\n",
    "    delta_b = np.zeros((b,))\n",
    "    return delta_w, delta_b\n",
    "    \n",
    "# define activation function\n",
    "def sigmoid_activation(X, w, b):\n",
    "    return 1 / (1 + np.exp(- X @ w - b))\n",
    "\n",
    "\n",
    "def sigmoid_gradient(X, y, w, b):\n",
    "    h_theta = sigmoid_activation(X, w, b)\n",
    "    h_y = h_theta - y\n",
    "    c = -y @ np.transpose(np.log(h_theta+0.001)) - (1 - y) @ np.transpose(np.log(1-h_theta+0.001))\n",
    "    g_w = h_y @ X\n",
    "    g_b = np.sum(h_y)\n",
    "    return g_w, g_b, c\n",
    "\n",
    "# define cost function\n",
    "def train(X, y, alpha, lamda = 0.1, panelty = 'L1', n_iteration=3000):\n",
    "    m, n = X.shape\n",
    "    w, b = w_initialization(n)\n",
    "    a = -alpha/m\n",
    "    cnt = 0\n",
    "    avg_cost = {}\n",
    "    while cnt < n_iteration:\n",
    "        cnt += 1\n",
    "        if cnt % 1000 == 0:\n",
    "            print('Epoch: {}'.format(cnt))\n",
    "        g_w, g_b, c = sigmoid_gradient(X, y, w, b)\n",
    "        if panelty == 'L1':\n",
    "            r = lamda * abs(w)\n",
    "        elif panelty == 'L2':\n",
    "            r = lamda * w**2\n",
    "        else:\n",
    "            r = 0\n",
    "        w +=  a * g_w + r\n",
    "        b +=  a * g_b\n",
    "        avg_cost[cnt-1] = c/m\n",
    "    return w, b, avg_cost\n",
    "\n",
    "def predict(X, w, b):\n",
    "    return sigmoid_activation(X, w, b)"
   ]
  },
  {
   "cell_type": "code",
   "execution_count": 185,
   "metadata": {},
   "outputs": [
    {
     "name": "stdout",
     "output_type": "stream",
     "text": [
      "(4, 2)\n",
      "Weights = [0.54676327 0.31545657], and bias = [0.68937575]\n",
      "[0.86611682 0.45689624 0.15896128 0.97318184]\n"
     ]
    }
   ],
   "source": [
    "a = np.array([[1,2],[-1,-1], [-2,-4],[3,4]])\n",
    "y = np.array((1,0,0,1))\n",
    "print(a.shape)\n",
    "w, b, avg_cost = train(a, y, 0.000025, 0.1, 'L2', 10)\n",
    "print('Weights = {}, and bias = {}'.format(w, b))\n",
    "print(predict(a, w, b))"
   ]
  },
  {
   "cell_type": "code",
   "execution_count": 178,
   "metadata": {},
   "outputs": [
    {
     "data": {
      "image/png": "[encoded data removed]",
      "text/plain": [
       "<Figure size 432x288 with 1 Axes>"
      ]
     },
     "metadata": {
      "needs_background": "light"
     },
     "output_type": "display_data"
    }
   ],
   "source": [
    "import matplotlib.pyplot as plt\n",
    "plt.plot(avg_cost.values())\n",
    "plt.show()"
   ]
  },
  {
   "cell_type": "code",
   "execution_count": null,
   "metadata": {},
   "outputs": [],
   "source": []
  }
 ],
 "metadata": {
  "kernelspec": {
   "display_name": "Python 3",
   "language": "python",
   "name": "python3"
  },
  "language_info": {
   "codemirror_mode": {
    "name": "ipython",
    "version": 3
   },
   "file_extension": ".py",
   "mimetype": "text/x-python",
   "name": "python",
   "nbconvert_exporter": "python",
   "pygments_lexer": "ipython3",
   "version": "3.7.1"
  }
 },
 "nbformat": 4,
 "nbformat_minor": 2
}
