{
 "cells": [
  {
   "cell_type": "markdown",
   "metadata": {},
   "source": [
    "# Support Vector Machine\n",
    "### Optimization question for solving weight vector\n",
    "\\begin{equation*}\n",
    "minimize\\;\\;\\;f(\\mathbf{w}) = \\frac{1}{2} ||\\mathbf{w}||^2 \\\\\n",
    "subject \\: to\\;\\;\\;g_i(w_i, b) = y_i(w_i \\mathbf{x}_i + b) - 1 \\geq 0\n",
    "\\end{equation*}\n",
    "### which can be transformed as a dual problem of lagrange formulation - wolfe dual problem\n",
    "\\begin{equation*}\n",
    "L(\\mathbf{w}, b, \\lambda) = \\frac{1}{2} ||\\mathbf{w}||^2 - \\sum_{i=1}^{m}\\lambda_i[y_i(w_i \\mathbf{x}_i + b) - 1]\\\\\n",
    "\\frac{\\partial L(\\mathbf{w}, b, \\lambda)}{\\partial \\mathbf{w}} = \\mathbf{w} - \\sum_{i=1}^m{\\lambda_{i}y_{i}\\mathbf{x_i}} =0 \\\\\n",
    "\\frac{\\partial L(\\mathbf{w}, b, \\lambda)}{\\partial b} = \\sum_{i=1}^{m}{\\lambda_{i}y_{i}} = 0\\\\\n",
    "subject \\: to\\;\\;\\;\\lambda_i \\geq 0\n",
    "\\end{equation*}\n",
    "### can be simplified as:\n",
    "\\begin{equation*}\n",
    "minimize\\;\\;\\;W(\\lambda) = \\frac{1}{2} \\sum_{i=1}^n \\sum_{j=1}^m \\lambda_i\\lambda_{j}y_{i}y_{j}\\mathbf{x}_{i}\\mathbf{x}_{j} \\\\\n",
    "subject \\: to\\;\\;\\;\\lambda_i \\geq 0 \\;\\; and \\;\n",
    "\\sum_{i=1}^{m}{\\lambda_{i}y_{i}} = 0\\\n",
    "\\end{equation*}\n",
    "### KKT condition of complementary slackness has not been addressed in wolfe dual problem:\n",
    "\\begin{equation*}\n",
    "\\lambda_{i}[y_i(w_i \\mathbf{x}_i + b) - 1]=0\\\\\n",
    "since: \\: condition \\: only \\: based \\: on \\: support \\: vectors\\\\\n",
    "therefore: \\;\\;\\; y_i(w_i \\mathbf{x}_i + b) - 1 = 0 \\\\\n",
    "\\lambda_{i} > 0\n",
    "\\end{equation*}\n",
    "### matrix form of simplified wolfe problem:\n",
    "\\begin{equation*}\n",
    "minimize\\;\\;\\;W(\\lambda)=\\frac{1}{2}\\mathbf{\\lambda}^{T}(\\mathbf{y}\\mathbf{y}^{T}\\mathbf{K})\\mathbf{\\lambda} - \\mathbf{\\lambda}\\\\\n",
    "subject\\:to\\;\\;\\;-\\lambda \\leq 0\\;\\;and\\;\\;\\mathbf{y}\\lambda=0 \\\\\n",
    "\\mathbf{K} = \\begin{vmatrix}\n",
    "\\mathbf{x_1}\\mathbf{x_1} & \\mathbf{x_1}\\mathbf{x_2} &...& \\mathbf{x_1}\\mathbf{x_m} \\\\\n",
    "\\mathbf{x_2}\\mathbf{x_1} & \\mathbf{x_2}\\mathbf{x_2} &...& \\mathbf{x_2}\\mathbf{x_m} \\\\\n",
    "... & ... & ... & ... \\\\\n",
    "\\mathbf{x_m}\\mathbf{x_1} & \\mathbf{x_m}\\mathbf{x_2} &...& \\mathbf{x_m}\\mathbf{x_m} \\\\\n",
    "\\end{vmatrix}\n",
    "\\end{equation*}"
   ]
  },
  {
   "cell_type": "code",
   "execution_count": 71,
   "metadata": {},
   "outputs": [],
   "source": [
    "import numpy as np\n",
    "\n",
    "\n",
    "class svm:\n",
    "    \n",
    "    def __init__(self, X, y, verbose=False):\n",
    "        self.X = X\n",
    "        self.y = y\n",
    "        self.verbose = verbose\n",
    "\n",
    "        try:\n",
    "            from cvxopt import matrix, solvers\n",
    "            self._mtx = matrix\n",
    "            self._qp  = solvers.qp\n",
    "        except ImportError:\n",
    "            raise ImportError(\"\"\"\n",
    "            The python module cvxopt is required to use\n",
    "            quadratic programming functionality.\n",
    "            Please use below command to safely install\n",
    "            sudo conda install -c conda-forge cvxopt\n",
    "            \"\"\")\n",
    "\n",
    "        if not self.verbose:\n",
    "            solvers.options['show_progress'] = False \n",
    "            \n",
    "            \n",
    "    def possible_inner_product(self, X):\n",
    "        \"\"\"\n",
    "        find all possible inner products of a matrix and itself\n",
    "        \"\"\"\n",
    "        \n",
    "        m = X.shape[0]\n",
    "        K = np.array([np.dot(X[i],X[j]) \n",
    "                      for i in range(m) \n",
    "                      for j in range(m)]).reshape((m,m))\n",
    "        return K, m\n",
    "\n",
    "\n",
    "    def wolfe_solver(self, X, y):\n",
    "        \"\"\"\n",
    "        wolfe optimization problem is a dual form of lagrange,\n",
    "        which is quadratic programming and solved by cvxopt\n",
    "        \"\"\"\n",
    "        \n",
    "        K, m = self.possible_inner_product(X)\n",
    "        P = self._mtx(np.outer(y,y) * K, tc = 'd')\n",
    "        q = self._mtx(-1 * np.ones(m))\n",
    "\n",
    "        G = self._mtx(np.diag(-1 * np.ones(m)))\n",
    "        h = self._mtx(np.zeros(m))\n",
    "\n",
    "        A = self._mtx(y, size = (1,m), tc = 'd')\n",
    "        b = self._mtx(0.0)\n",
    "\n",
    "        solution = self._qp(P=P, q=q, G=G, h=h, A=A, b=b)\n",
    "        \n",
    "        return np.ravel(solution[\"x\"])\n",
    "\n",
    "    \n",
    "    def find_support_vec(self):\n",
    "        \"\"\"\n",
    "        find vector that has nonpositive lagrange multiplyers\n",
    "        \"\"\"\n",
    "        \n",
    "        multipliers = self.wolfe_solver(self.X, self.y)\n",
    "        positive_pos = multipliers > 1e-7\n",
    "        return self.X[positive_pos], self.y[positive_pos], multipliers[positive_pos]\n",
    "\n",
    "\n",
    "    def direction(self, x):\n",
    "        \"\"\"\n",
    "        function for calculation of directory vector\n",
    "        direction vector is a unit vector with norm equals 1\n",
    "        \"\"\"\n",
    "        \n",
    "        return x / np.linalg.norm(x)\n",
    "\n",
    "    \n",
    "    def compute_weight(self):\n",
    "        \"\"\"\n",
    "        compute weights and intercept based on only support vectors\n",
    "        \"\"\"\n",
    "        \n",
    "        X, y, multipliers = self.find_support_vec()\n",
    "        w = np.dot(np.multiply(multipliers, y), X)\n",
    "        b = np.dot(np.transpose(y), np.dot(X, w))\n",
    "        return w, b\n",
    "    \n"
   ]
  },
  {
   "cell_type": "code",
   "execution_count": 146,
   "metadata": {},
   "outputs": [],
   "source": [
    "X=np.array([[1.5,2],[1,3],[1.4, 2.6],[2.5,2],[2,2.5]])\n",
    "y=np.array([1,1,1,-1,-1])\n",
    "a = svm(X, y)\n",
    "w, b = a.compute_weight()"
   ]
  },
  {
   "cell_type": "code",
   "execution_count": 160,
   "metadata": {},
   "outputs": [
    {
     "data": {
      "image/png": "[encoded data removed]",
      "text/plain": [
       "<Figure size 432x288 with 1 Axes>"
      ]
     },
     "metadata": {},
     "output_type": "display_data"
    }
   ],
   "source": [
    "import matplotlib.pyplot as plt\n",
    "X_unzip = list(zip(*X))\n",
    "line_x2 = np.linspace(2, 3, 100)\n",
    "line_x1 =  -(line_x2 * w[1] + b) / w[0]\n",
    "#Z = np.sqrt()\n",
    "plt.scatter(X_unzip[0],X_unzip[1], c = y*0.5)\n",
    "plt.plot(line_x1, line_x2)\n",
    "plt.show()"
   ]
  },
  {
   "cell_type": "code",
   "execution_count": 149,
   "metadata": {},
   "outputs": [
    {
     "data": {
      "text/plain": [
       "-4.285714339514611"
      ]
     },
     "execution_count": 149,
     "metadata": {},
     "output_type": "execute_result"
    }
   ],
   "source": [
    "b"
   ]
  },
  {
   "cell_type": "code",
   "execution_count": null,
   "metadata": {},
   "outputs": [],
   "source": []
  }
 ],
 "metadata": {
  "kernelspec": {
   "display_name": "Python 3",
   "language": "python",
   "name": "python3"
  },
  "language_info": {
   "codemirror_mode": {
    "name": "ipython",
    "version": 3
   },
   "file_extension": ".py",
   "mimetype": "text/x-python",
   "name": "python",
   "nbconvert_exporter": "python",
   "pygments_lexer": "ipython3",
   "version": "3.6.7"
  }
 },
 "nbformat": 4,
 "nbformat_minor": 2
}
