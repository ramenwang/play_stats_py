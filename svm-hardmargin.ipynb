{
 "cells": [
  {
   "cell_type": "markdown",
   "metadata": {},
   "source": [
    "# Support Vector Machine\n",
    "### Optimization question for solving weight vector\n",
    "\\begin{equation*}\n",
    "minimize\\;\\;\\;f(\\mathbf{w}) = \\frac{1}{2} ||\\mathbf{w}||^2 \\\\\n",
    "subject \\: to\\;\\;\\;g_i(w_i, b) = y_i(w_i \\mathbf{x}_i + b) - 1 \\geq 0\n",
    "\\end{equation*}\n",
    "### which can be transformed as a dual problem of lagrange formulation - wolfe dual problem\n",
    "\\begin{equation*}\n",
    "L(\\mathbf{w}, b, \\lambda) = \\frac{1}{2} ||\\mathbf{w}||^2 - \\sum_{i=1}^{m}\\lambda_i[y_i(w_i \\mathbf{x}_i + b) - 1]\\\\\n",
    "\\frac{\\partial L(\\mathbf{w}, b, \\lambda)}{\\partial \\mathbf{w}} = \\mathbf{w} - \\sum_{i=1}^m{\\lambda_{i}y_{i}\\mathbf{x_i}} =0 \\\\\n",
    "\\frac{\\partial L(\\mathbf{w}, b, \\lambda)}{\\partial b} = \\sum_{i=1}^{m}{\\lambda_{i}y_{i}} = 0\\\\\n",
    "subject \\: to\\;\\;\\;\\lambda_i \\geq 0\n",
    "\\end{equation*}\n",
    "### can be simplified as:\n",
    "\\begin{equation*}\n",
    "minimize\\;\\;\\;W(\\lambda) = \\frac{1}{2} \\sum_{i=1}^n \\sum_{j=1}^m \\lambda_i\\lambda_{j}y_{i}y_{j}\\mathbf{x}_{i}\\mathbf{x}_{j} \\\\\n",
    "subject \\: to\\;\\;\\;\\lambda_i \\geq 0 \\;\\; and \\;\n",
    "\\sum_{i=1}^{m}{\\lambda_{i}y_{i}} = 0\\\n",
    "\\end{equation*}\n",
    "### KKT condition of complementary slackness has not been addressed in wolfe dual problem:\n",
    "\\begin{equation*}\n",
    "\\lambda_{i}[y_i(w_i \\mathbf{x}_i + b) - 1]=0\\\\\n",
    "since: \\: condition \\: only \\: based \\: on \\: support \\: vectors\\\\\n",
    "therefore: \\;\\;\\; y_i(w_i \\mathbf{x}_i + b) - 1 = 0 \\\\\n",
    "\\lambda_{i} > 0\n",
    "\\end{equation*}\n",
    "### matrix form of simplified wolfe problem:\n",
    "\\begin{equation*}\n",
    "minimize\\;\\;\\;W(\\lambda)=\\frac{1}{2}\\mathbf{\\lambda}^{T}(\\mathbf{y}\\mathbf{y}^{T}\\mathbf{K})\\mathbf{\\lambda} - \\mathbf{\\lambda}\\\\\n",
    "subject\\:to\\;\\;\\;-\\lambda \\leq 0\\;\\;and\\;\\;\\mathbf{y}\\lambda=0\n",
    "\\end{equation*}"
   ]
  },
  {
   "cell_type": "code",
   "execution_count": 1,
   "metadata": {},
   "outputs": [
    {
     "data": {
      "text/plain": [
       "7.0710678118654755"
      ]
     },
     "execution_count": 1,
     "metadata": {},
     "output_type": "execute_result"
    }
   ],
   "source": [
    "# norm calculation\n",
    "import numpy as np\n",
    "\n",
    "# function for calculation of directory vector\n",
    "# direction vector is a unit vector with norm equals 1\n",
    "def direction(x):\n",
    "    return x / np.linalg.norm(x)\n",
    "\n",
    "\n",
    "x = [3,4,5]\n",
    "np.linalg.norm(x)"
   ]
  },
  {
   "cell_type": "code",
   "execution_count": null,
   "metadata": {},
   "outputs": [],
   "source": []
  }
 ],
 "metadata": {
  "kernelspec": {
   "display_name": "Python 3",
   "language": "python",
   "name": "python3"
  },
  "language_info": {
   "codemirror_mode": {
    "name": "ipython",
    "version": 3
   },
   "file_extension": ".py",
   "mimetype": "text/x-python",
   "name": "python",
   "nbconvert_exporter": "python",
   "pygments_lexer": "ipython3",
   "version": "3.6.5"
  }
 },
 "nbformat": 4,
 "nbformat_minor": 2
}
