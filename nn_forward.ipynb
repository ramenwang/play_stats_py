{
 "cells": [
  {
   "cell_type": "code",
   "execution_count": 24,
   "metadata": {},
   "outputs": [],
   "source": [
    "import numpy as np\n",
    "import matplotlib.pylab as plt"
   ]
  },
  {
   "cell_type": "markdown",
   "metadata": {},
   "source": [
    "## Building a forward (3,3,1) ANN\n",
    "### The weight matrix between layer 1 and layer 2\n",
    "\\begin{equation*}\n",
    "W_{3\\times3}^{(1)} = \\begin{vmatrix}\n",
    "w_{1,1}^{(1)} & w_{1,2}^{(1)}  & w_{1,3}^{(1)} \\\\\n",
    "w_{2,1}^{(1)} & w_{2,2}^{(1)}  & w_{2,3}^{(1)} \\\\\n",
    "w_{3,1}^{(1)} & w_{3,2}^{(1)}  & w_{3,3}^{(1)} \\\\\n",
    "\\end{vmatrix}\n",
    "\\end{equation*}"
   ]
  },
  {
   "cell_type": "code",
   "execution_count": 25,
   "metadata": {},
   "outputs": [
    {
     "name": "stdout",
     "output_type": "stream",
     "text": [
      "3\n"
     ]
    }
   ],
   "source": [
    "w1 = np.array([[.2,.2,.2], [.4,.4,.4], [.6,.6,.6]])\n",
    "print(w1.shape[1])"
   ]
  },
  {
   "cell_type": "markdown",
   "metadata": {},
   "source": [
    "### The weight matrix between layer 2 and layer 3\n",
    "\\begin{equation*}\n",
    "W_{1\\times3}^{(2)} = \\begin{vmatrix}\n",
    "w_{1,1}^{(2)} & w_{1,2}^{(2)}  & w_{1,3}^{(2)}\n",
    "\\end{vmatrix}\n",
    "\\end{equation*}"
   ]
  },
  {
   "cell_type": "code",
   "execution_count": 26,
   "metadata": {},
   "outputs": [
    {
     "name": "stdout",
     "output_type": "stream",
     "text": [
      "[[0.5 0.5 0.5]]\n"
     ]
    }
   ],
   "source": [
    "w2 = np.array([[.5,.5,.5]])\n",
    "print(w2)"
   ]
  },
  {
   "cell_type": "code",
   "execution_count": 27,
   "metadata": {},
   "outputs": [],
   "source": [
    "# or pure matrix\n",
    "# b1 = np.array([[.8,.8,.8]])\n",
    "# b2 = np.array([[.2,]])\n",
    "\n",
    "b1 = np.array([.8,.8,.8])\n",
    "b2 = 0.2"
   ]
  },
  {
   "cell_type": "code",
   "execution_count": 28,
   "metadata": {},
   "outputs": [],
   "source": [
    "# define sigmoid activation function\n",
    "def f(x):\n",
    "    return 1/(1 + np.exp(-x))"
   ]
  },
  {
   "cell_type": "code",
   "execution_count": 29,
   "metadata": {},
   "outputs": [],
   "source": [
    "# simple looped nn calculation\n",
    "def simple_looped_nn_cal(n_layer, x, w_list, b_list):\n",
    "    for i, w, b in zip([*range(n_layer-1)], w_list, b_list):\n",
    "        \n",
    "        if i == 0:\n",
    "            node_in = x\n",
    "        else:\n",
    "            node_in = h\n",
    "\n",
    "#         X = np.array([np.append(1, node_in)])\n",
    "#         W = np.concatenate((b.T, w), axis = 1)\n",
    "#         print(W)\n",
    "#         z = X @ W.T\n",
    "        z = w.dot(node_in) + b\n",
    "        h = f(z)\n",
    "#         print(node_in)\n",
    "        \n",
    "    return h"
   ]
  },
  {
   "cell_type": "code",
   "execution_count": 30,
   "metadata": {},
   "outputs": [],
   "source": [
    "w_list = [w1,w2]\n",
    "b_list = [b1,b2]\n",
    "x = [1.5,2,3]"
   ]
  },
  {
   "cell_type": "code",
   "execution_count": 31,
   "metadata": {},
   "outputs": [
    {
     "data": {
      "text/plain": [
       "array([0.83545566])"
      ]
     },
     "execution_count": 31,
     "metadata": {},
     "output_type": "execute_result"
    }
   ],
   "source": [
    "simple_looped_nn_cal(3,x,w_list,b_list)"
   ]
  },
  {
   "cell_type": "markdown",
   "metadata": {},
   "source": [
    "### solving equation using gradient decent\n",
    "\\begin{equation*}\n",
    "f(x) = x^4-3x^3+2\n",
    "\\end{equation*}\n",
    "### which has a first-order derivative of \n",
    "\\begin{equation*}\n",
    "f^{'}(x) = 4x^3 - 9x^2\n",
    "\\end{equation*}"
   ]
  },
  {
   "cell_type": "code",
   "execution_count": 32,
   "metadata": {},
   "outputs": [
    {
     "name": "stdout",
     "output_type": "stream",
     "text": [
      "Gradient is -5.000000\n",
      "Gradient is -5.292000\n",
      "Gradient is -5.581382\n",
      "Gradient is -5.860816\n",
      "Gradient is -6.121272\n",
      "Gradient is -6.352095\n",
      "Gradient is -6.541294\n",
      "Gradient is -6.676142\n",
      "Gradient is -6.744101\n",
      "Gradient is -6.734067\n",
      "Gradient is -6.637824\n",
      "Gradient is -6.451494\n",
      "Gradient is -6.176681\n",
      "Gradient is -5.821002\n",
      "Gradient is -5.397766\n",
      "Gradient is -4.924751\n",
      "Gradient is -4.422284\n",
      "Gradient is -3.910992\n",
      "Gradient is -3.409706\n",
      "Gradient is -2.933888\n",
      "Gradient is -2.494789\n",
      "Gradient is -2.099330\n",
      "Gradient is -1.750545\n",
      "Gradient is -1.448347\n",
      "Gradient is -1.190410\n",
      "Gradient is -0.972993\n",
      "Gradient is -0.791625\n",
      "Gradient is -0.641618\n",
      "Gradient is -0.518418\n",
      "Gradient is -0.417811\n",
      "Gradient is -0.336034\n",
      "Gradient is -0.269813\n",
      "Gradient is -0.216350\n",
      "Gradient is -0.173292\n",
      "Gradient is -0.138683\n",
      "Gradient is -0.110909\n",
      "Gradient is -0.088647\n",
      "Gradient is -0.070822\n",
      "Gradient is -0.056561\n",
      "Gradient is -0.045158\n",
      "Gradient is -0.036046\n",
      "Gradient is -0.028768\n",
      "Gradient is -0.022956\n",
      "Gradient is -0.018316\n",
      "Gradient is -0.014612\n",
      "Gradient is -0.011656\n",
      "Gradient is -0.009298\n",
      "Gradient is -0.007417\n",
      "Gradient is -0.005916\n",
      "Gradient is -0.004718\n",
      "Gradient is -0.003763\n",
      "Gradient is -0.003001\n",
      "Gradient is -0.002394\n",
      "Gradient is -0.001909\n",
      "Gradient is -0.001523\n",
      "Gradient is -0.001214\n",
      "Gradient is -0.000968\n"
     ]
    }
   ],
   "source": [
    "x_old = 10\n",
    "x_new = 1\n",
    "gamma = 0.01\n",
    "precision = 0.00001\n",
    "\n",
    "def df(x):\n",
    "    return 4*x**3 - 9*x**2\n",
    "\n",
    "while abs(x_new - x_old) > precision:\n",
    "    # save previous x value\n",
    "    x_old = x_new\n",
    "     # update x\n",
    "    gradient = df(x_old)\n",
    "    # if x_old < 0: gamma = -gamma\n",
    "    \n",
    "    x_new += -gamma * gradient\n",
    "    print(\"Gradient is %f\"%gradient)"
   ]
  },
  {
   "cell_type": "code",
   "execution_count": 33,
   "metadata": {},
   "outputs": [
    {
     "name": "stdout",
     "output_type": "stream",
     "text": [
      "2.2499618588895505\n"
     ]
    }
   ],
   "source": [
    "print(x_new)"
   ]
  }
 ],
 "metadata": {
  "kernelspec": {
   "display_name": "Python 3",
   "language": "python",
   "name": "python3"
  },
  "language_info": {
   "codemirror_mode": {
    "name": "ipython",
    "version": 3
   },
   "file_extension": ".py",
   "mimetype": "text/x-python",
   "name": "python",
   "nbconvert_exporter": "python",
   "pygments_lexer": "ipython3",
   "version": "3.6.5"
  }
 },
 "nbformat": 4,
 "nbformat_minor": 2
}
